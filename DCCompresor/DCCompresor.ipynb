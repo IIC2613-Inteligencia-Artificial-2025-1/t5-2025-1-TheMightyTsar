{
 "cells": [
  {
   "metadata": {},
   "cell_type": "markdown",
   "source": "# DCCompresor",
   "id": "f15665aab9bacad7"
  },
  {
   "metadata": {},
   "cell_type": "markdown",
   "source": "## 1.1",
   "id": "cb0d14dcfb2c4122"
  },
  {
   "metadata": {},
   "cell_type": "code",
   "outputs": [],
   "execution_count": null,
   "source": "",
   "id": "cb0bea8e3b85e88e"
  },
  {
   "metadata": {},
   "cell_type": "markdown",
   "source": "## 1.2\n",
   "id": "85e4a6fde209c516"
  },
  {
   "metadata": {
    "ExecuteTime": {
     "end_time": "2025-06-13T22:18:58.899267Z",
     "start_time": "2025-06-13T22:18:53.892778Z"
    }
   },
   "cell_type": "code",
   "source": [
    "import pandas as pd\n",
    "\n",
    "# Leemos el archivo\n",
    "filename = 'txt en'\n",
    "with open(filename, 'r', encoding='utf-8') as f:\n",
    "    lines = f.readlines()\n",
    "\n",
    "# Reviso las frases que podemos codificar como ASCII\n",
    "def is_ascii(s):\n",
    "    try:\n",
    "        s.encode('ascii')\n",
    "        return True\n",
    "    except UnicodeEncodeError:\n",
    "        return False\n",
    "# eliminamos los elementos que meten ruido en el dataset\n",
    "# el \"- \" que hay en unas frases por ser subtitulos\n",
    "ascii_phrases = []\n",
    "for line in lines:\n",
    "    line = line.strip()\n",
    "    if is_ascii(line) and len(line) > 0:\n",
    "        if line.startswith(\"- \"):\n",
    "            line = line[2:]\n",
    "        ascii_phrases.append(line)\n",
    "\n",
    "# Creo el DataFrame\n",
    "df = pd.DataFrame(ascii_phrases, columns=['phrase'])\n",
    "\n",
    "# Codifico cada frase en su lista de códigos ASCII\n",
    "df['ascii_codes'] = df['phrase'].apply(lambda x: [ord(char) for char in x])\n",
    "print(\"=\"*10)\n",
    "print(\"Nos queda un dataframe con forma:\")\n",
    "print(df.shape)\n",
    "print(\"=\"*10)\n",
    "print(\"Vemos los primeros elementos del dataframe:\")\n",
    "df.head()\n"
   ],
   "id": "166e62add4be5d55",
   "outputs": [
    {
     "name": "stdout",
     "output_type": "stream",
     "text": [
      "==========\n",
      "Nos queda un dataframe con forma:\n",
      "(2715826, 2)\n",
      "==========\n",
      "Vemos los primeros elementos del dataframe:\n"
     ]
    },
    {
     "data": {
      "text/plain": [
       "                               phrase  \\\n",
       "0            (\"Fall\" by Scott Miller)   \n",
       "1  (\"Taste for Life\" by Scott Miller)   \n",
       "2                         Hey, Billy.   \n",
       "3          Why not shake another one?   \n",
       "4                   I can' t, Hoover.   \n",
       "\n",
       "                                         ascii_codes  \n",
       "0  [40, 34, 70, 97, 108, 108, 34, 32, 98, 121, 32...  \n",
       "1  [40, 34, 84, 97, 115, 116, 101, 32, 102, 111, ...  \n",
       "2  [72, 101, 121, 44, 32, 66, 105, 108, 108, 121,...  \n",
       "3  [87, 104, 121, 32, 110, 111, 116, 32, 115, 104...  \n",
       "4  [73, 32, 99, 97, 110, 39, 32, 116, 44, 32, 72,...  "
      ],
      "text/html": [
       "<div>\n",
       "<style scoped>\n",
       "    .dataframe tbody tr th:only-of-type {\n",
       "        vertical-align: middle;\n",
       "    }\n",
       "\n",
       "    .dataframe tbody tr th {\n",
       "        vertical-align: top;\n",
       "    }\n",
       "\n",
       "    .dataframe thead th {\n",
       "        text-align: right;\n",
       "    }\n",
       "</style>\n",
       "<table border=\"1\" class=\"dataframe\">\n",
       "  <thead>\n",
       "    <tr style=\"text-align: right;\">\n",
       "      <th></th>\n",
       "      <th>phrase</th>\n",
       "      <th>ascii_codes</th>\n",
       "    </tr>\n",
       "  </thead>\n",
       "  <tbody>\n",
       "    <tr>\n",
       "      <th>0</th>\n",
       "      <td>(\"Fall\" by Scott Miller)</td>\n",
       "      <td>[40, 34, 70, 97, 108, 108, 34, 32, 98, 121, 32...</td>\n",
       "    </tr>\n",
       "    <tr>\n",
       "      <th>1</th>\n",
       "      <td>(\"Taste for Life\" by Scott Miller)</td>\n",
       "      <td>[40, 34, 84, 97, 115, 116, 101, 32, 102, 111, ...</td>\n",
       "    </tr>\n",
       "    <tr>\n",
       "      <th>2</th>\n",
       "      <td>Hey, Billy.</td>\n",
       "      <td>[72, 101, 121, 44, 32, 66, 105, 108, 108, 121,...</td>\n",
       "    </tr>\n",
       "    <tr>\n",
       "      <th>3</th>\n",
       "      <td>Why not shake another one?</td>\n",
       "      <td>[87, 104, 121, 32, 110, 111, 116, 32, 115, 104...</td>\n",
       "    </tr>\n",
       "    <tr>\n",
       "      <th>4</th>\n",
       "      <td>I can' t, Hoover.</td>\n",
       "      <td>[73, 32, 99, 97, 110, 39, 32, 116, 44, 32, 72,...</td>\n",
       "    </tr>\n",
       "  </tbody>\n",
       "</table>\n",
       "</div>"
      ]
     },
     "execution_count": 5,
     "metadata": {},
     "output_type": "execute_result"
    }
   ],
   "execution_count": 5
  },
  {
   "metadata": {
    "ExecuteTime": {
     "end_time": "2025-06-13T22:25:08.150375Z",
     "start_time": "2025-06-13T22:25:08.085376Z"
    }
   },
   "cell_type": "code",
   "source": [
    "# Debido al gran tamaño del Dataset que nos pesara en el entrenamiento\n",
    "# tomamos 400.000 frases random del dataset\n",
    "df = df.sample(n=400_000, random_state=42).reset_index(drop=True)\n",
    "print(\"=\"*10)\n",
    "print(\"Nos queda un dataframe con forma:\")\n",
    "print(df.shape)\n",
    "print(\"=\"*10)\n",
    "print(\"Vemos los primeros elementos del dataframe:\")\n",
    "df.head()"
   ],
   "id": "c4f46378822b213a",
   "outputs": [
    {
     "name": "stdout",
     "output_type": "stream",
     "text": [
      "==========\n",
      "Nos queda un dataframe con forma:\n",
      "(400000, 2)\n",
      "==========\n",
      "Vemos los primeros elementos del dataframe:\n"
     ]
    },
    {
     "data": {
      "text/plain": [
       "                      phrase  \\\n",
       "0                   You hit?   \n",
       "1  We got a team over there.   \n",
       "2                        No!   \n",
       "3      Yeah, I' m just fine.   \n",
       "4          He' s a nice man.   \n",
       "\n",
       "                                         ascii_codes  \n",
       "0              [89, 111, 117, 32, 104, 105, 116, 63]  \n",
       "1  [87, 101, 32, 103, 111, 116, 32, 97, 32, 116, ...  \n",
       "2                                      [78, 111, 33]  \n",
       "3  [89, 101, 97, 104, 44, 32, 73, 39, 32, 109, 32...  \n",
       "4  [72, 101, 39, 32, 115, 32, 97, 32, 110, 105, 9...  "
      ],
      "text/html": [
       "<div>\n",
       "<style scoped>\n",
       "    .dataframe tbody tr th:only-of-type {\n",
       "        vertical-align: middle;\n",
       "    }\n",
       "\n",
       "    .dataframe tbody tr th {\n",
       "        vertical-align: top;\n",
       "    }\n",
       "\n",
       "    .dataframe thead th {\n",
       "        text-align: right;\n",
       "    }\n",
       "</style>\n",
       "<table border=\"1\" class=\"dataframe\">\n",
       "  <thead>\n",
       "    <tr style=\"text-align: right;\">\n",
       "      <th></th>\n",
       "      <th>phrase</th>\n",
       "      <th>ascii_codes</th>\n",
       "    </tr>\n",
       "  </thead>\n",
       "  <tbody>\n",
       "    <tr>\n",
       "      <th>0</th>\n",
       "      <td>You hit?</td>\n",
       "      <td>[89, 111, 117, 32, 104, 105, 116, 63]</td>\n",
       "    </tr>\n",
       "    <tr>\n",
       "      <th>1</th>\n",
       "      <td>We got a team over there.</td>\n",
       "      <td>[87, 101, 32, 103, 111, 116, 32, 97, 32, 116, ...</td>\n",
       "    </tr>\n",
       "    <tr>\n",
       "      <th>2</th>\n",
       "      <td>No!</td>\n",
       "      <td>[78, 111, 33]</td>\n",
       "    </tr>\n",
       "    <tr>\n",
       "      <th>3</th>\n",
       "      <td>Yeah, I' m just fine.</td>\n",
       "      <td>[89, 101, 97, 104, 44, 32, 73, 39, 32, 109, 32...</td>\n",
       "    </tr>\n",
       "    <tr>\n",
       "      <th>4</th>\n",
       "      <td>He' s a nice man.</td>\n",
       "      <td>[72, 101, 39, 32, 115, 32, 97, 32, 110, 105, 9...</td>\n",
       "    </tr>\n",
       "  </tbody>\n",
       "</table>\n",
       "</div>"
      ]
     },
     "execution_count": 8,
     "metadata": {},
     "output_type": "execute_result"
    }
   ],
   "execution_count": 8
  },
  {
   "metadata": {},
   "cell_type": "markdown",
   "source": "## 1.3",
   "id": "dd0f3e6c67917132"
  },
  {
   "metadata": {},
   "cell_type": "markdown",
   "source": "### Autoencoders:",
   "id": "b46782c44762c107"
  },
  {
   "metadata": {},
   "cell_type": "markdown",
   "source": "### Tokenización:\n",
   "id": "15e9f950769fdf38"
  },
  {
   "metadata": {},
   "cell_type": "markdown",
   "source": "### Funciones de pérdida:",
   "id": "4ef048de96028c1b"
  },
  {
   "metadata": {},
   "cell_type": "markdown",
   "source": "### Dropout:",
   "id": "8192acc7b26382cc"
  },
  {
   "metadata": {},
   "cell_type": "markdown",
   "source": "## 1.4",
   "id": "56a78effd8b73ea9"
  },
  {
   "metadata": {},
   "cell_type": "markdown",
   "source": "### 1.4.1",
   "id": "7d4b2254cb6fcba2"
  },
  {
   "metadata": {},
   "cell_type": "markdown",
   "source": "## 1.5",
   "id": "6494e26119998410"
  },
  {
   "metadata": {},
   "cell_type": "markdown",
   "source": "## 1.6",
   "id": "7c1e81d5b8109e86"
  },
  {
   "metadata": {},
   "cell_type": "code",
   "outputs": [],
   "execution_count": null,
   "source": "",
   "id": "4ddc658ef36a2ebf"
  }
 ],
 "metadata": {
  "kernelspec": {
   "name": "python3",
   "language": "python",
   "display_name": "Python 3 (ipykernel)"
  }
 },
 "nbformat": 5,
 "nbformat_minor": 9
}
